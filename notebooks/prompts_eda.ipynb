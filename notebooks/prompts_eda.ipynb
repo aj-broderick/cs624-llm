{
 "cells": [
  {
   "cell_type": "markdown",
   "metadata": {},
   "source": [
    "## Prompts Exploratory Data Analysis\n",
    "Using this notebook, we can analyze and extract key insights from the prompts used for training our LLM model.\n",
    "\n",
    "#### EDA Overview\n",
    "Token Wise:\n",
    "- Average Tokens Length\n",
    "- Token Lengths Distribution\n",
    "- Min/Max in tokens\n",
    "\n",
    "Coverage:\n",
    "- Prompt Coverage as a function of Tokens Lenght\n",
    "- Prompt Coverage as a function of hardcoded LLM context size.\n",
    "\n",
    "Word Analysis:\n",
    "- Word Cloud\n",
    "---\n",
    "\n",
    "### Insights:\n",
    "- `Average Tokens Length` : see wether our prompts are balanced in relation to model context size.\n",
    "- `Token Lengths Distribution` : see variety of sentence lengths, skewed towards short or long sentences\n",
    "- `Min/Max in tokens` : anomalies or outliers in the training set\n",
    "\n",
    "- `Prompt Coverage w.r.t Tokens Lenght` : how effective the prompts cover the entire range of tokens lengths\n",
    "- `Word Cloud` : main topics and subjects within the dataset"
   ]
  },
  {
   "cell_type": "code",
   "execution_count": 41,
   "metadata": {},
   "outputs": [
    {
     "name": "stderr",
     "output_type": "stream",
     "text": [
      "Downloading data files: 100%|██████████| 1/1 [00:00<00:00, 5652.70it/s]\n",
      "Extracting data files: 100%|██████████| 1/1 [00:00<00:00, 103.86it/s]\n",
      "Generating train split: 31 examples [00:00, 737.35 examples/s]\n"
     ]
    }
   ],
   "source": []
  },
  {
   "cell_type": "code",
   "execution_count": 24,
   "metadata": {},
   "outputs": [
    {
     "name": "stdout",
     "output_type": "stream",
     "text": [
      "Loaded Tokenizer : BertTokenizerFast(name_or_path='sentence-transformers/all-MiniLM-L6-v2', vocab_size=30522, model_max_length=512, is_fast=True, padding_side='right', truncation_side='right', special_tokens={'eos_token': 'EOS', 'unk_token': '[UNK]', 'sep_token': '[SEP]', 'pad_token': 'UNK', 'cls_token': '[CLS]', 'mask_token': '[MASK]'}, clean_up_tokenization_spaces=True)\n"
     ]
    }
   ],
   "source": [
    "# 2. Load tokenizer\n",
    "from transformers import AutoTokenizer\n",
    "tokenizer = AutoTokenizer.from_pretrained(\"sentence-transformers/all-MiniLM-L6-v2\")\n",
    "tokenizer.eos_token = \"EOS\"\n",
    "tokenizer.pad_token = \"UNK\"\n",
    "print(f\"Loaded Tokenizer : {tokenizer}\" if tokenizer else \"Failed to load\")"
   ]
  },
  {
   "cell_type": "code",
   "execution_count": 111,
   "metadata": {},
   "outputs": [],
   "source": [
    "# Prepare training data parser\n",
    "import json\n",
    "from enum import Enum\n",
    "from pathlib import Path\n",
    "from itertools import chain\n",
    "from typing import Dict, List\n",
    "from datasets import load_dataset\n",
    "from dataclasses import dataclass, field\n",
    "from datasets.dataset_dict import DatasetDict\n",
    "\n",
    "class Scope(Enum):\n",
    "    TRAIN = \"train\"\n",
    "    TEST = \"test\"\n",
    "\n",
    "@dataclass\n",
    "class TrainSample:\n",
    "    about_me: str = field(repr=False)\n",
    "    context: str = \"\"\n",
    "    response: str = \"\"\n",
    "    \n",
    "    def formatted(self):\n",
    "        template = f\"\"\"\n",
    "        You are an expert in the stock and crypto markets. I will give you some information about myself and you will provide me with good investment advice.\n",
    "\n",
    "        # ABOUT ME\n",
    "        {self.about_me}\n",
    "\n",
    "        # CONTEXT\n",
    "        {self.context}\n",
    "\n",
    "        Please provide concrete advice in less than 100 tokens, and justify your answer based on the news provided in the context.\n",
    "        \"\"\"\n",
    "        return template\n",
    "\n",
    "class DatasetGenerator:\n",
    "    def __init__(self, dataset_file_path: Path, scope: Scope):\n",
    "        self.scope = scope\n",
    "        self.tokenizer = tokenizer\n",
    "        self.dataset = self._load_dataset(dataset_file_path)\n",
    "    \n",
    "    def _load_dataset(self, dataset_file_path: Path):\n",
    "        try:\n",
    "            dataset = load_dataset(\"json\", data_files=str(dataset_json_file))\n",
    "            print(f\"Length : {len(dataset[self.scope.value])} samples.\")\n",
    "            return dataset\n",
    "        except FileNotFoundError:\n",
    "            print(\"JSON file not found.\")\n",
    "            raise FileNotFoundError(\"Yo, check the file path\")\n",
    "        except SyntaxError:\n",
    "            print(\"JSON file badly formatted.\")\n",
    "            raise FileNotFoundError(\"Yo, forgot how to write json?\")\n",
    "\n",
    "    def tokenized_samples_gen(self, tokenizer):\n",
    "        formatted_samples = list(map(lambda en: TrainSample(**en), self.dataset[self.scope.value]))\n",
    "        for sample in formatted_samples:\n",
    "            as_str = sample.formatted()\n",
    "            tokenized = tokenizer(as_str)\n",
    "            tokenized = tokenized[\"input_ids\"]\n",
    "            yield tokenized\n",
    "            \n",
    "    def raw_samples_gen(self):\n",
    "        formatted_samples = list(map(lambda en: TrainSample(**en), self.dataset[self.scope.value]))\n",
    "        for sample in formatted_samples:\n",
    "            yield sample\n",
    "\n",
    "def tokenize(str_prompt: str) -> List:\n",
    "    tokenized = tokenizer(str_prompt)\n",
    "    tokenized = tokenized[\"input_ids\"]\n",
    "    return tokenized\n"
   ]
  },
  {
   "cell_type": "code",
   "execution_count": 112,
   "metadata": {},
   "outputs": [
    {
     "name": "stdout",
     "output_type": "stream",
     "text": [
      "Length : 31\n"
     ]
    }
   ],
   "source": [
    "\n",
    "# 1. Prerequisites\n",
    "DATASET_ROOT = Path(\"../modules/q_and_a_dataset_generator/data\")\n",
    "dataset_json_file = DATASET_ROOT / \"training_data.json\"\n",
    "\n",
    "\n",
    "# 2. Prepare dataset\n",
    "dataset = DatasetGenerator(dataset_file_path=dataset_json_file, scope=Scope.TRAIN)\n",
    "tokenized_samples = dataset.tokenized_samples_gen(tokenizer)"
   ]
  },
  {
   "cell_type": "markdown",
   "metadata": {},
   "source": [
    "### Prompt [1] Average Tokens Length\n"
   ]
  },
  {
   "cell_type": "code",
   "execution_count": 113,
   "metadata": {},
   "outputs": [
    {
     "data": {
      "text/plain": [
       "<matplotlib.lines.Line2D at 0x7fa13100ecb0>"
      ]
     },
     "execution_count": 113,
     "metadata": {},
     "output_type": "execute_result"
    },
    {
     "data": {
      "image/png": "[encoded data removed]",
      "text/plain": [
       "<Figure size 640x480 with 1 Axes>"
      ]
     },
     "metadata": {},
     "output_type": "display_data"
    }
   ],
   "source": [
    "# Tokenize each prompt\n",
    "import matplotlib.pyplot as plt\n",
    "\n",
    "lens = [len(x) for x in tokenized_samples]\n",
    "plt.hist(lens, bins=100)\n",
    "plt.title(\"Prompt Lenghts Distribution\")\n",
    "plt.axvline(100, color=\"red\")\n",
    "plt.axvline(200, color=\"blue\")\n"
   ]
  },
  {
   "cell_type": "markdown",
   "metadata": {},
   "source": [
    "### Prompt [2] Token Lengths Distribution"
   ]
  },
  {
   "cell_type": "code",
   "execution_count": 116,
   "metadata": {},
   "outputs": [
    {
     "data": {
      "text/plain": [
       "<matplotlib.lines.Line2D at 0x7fa1310b5300>"
      ]
     },
     "execution_count": 116,
     "metadata": {},
     "output_type": "execute_result"
    },
    {
     "data": {
      "image/png": "[encoded data removed]",
      "text/plain": [
       "<Figure size 640x480 with 1 Axes>"
      ]
     },
     "metadata": {},
     "output_type": "display_data"
    }
   ],
   "source": [
    "# Plot tokens distributions\n",
    "plt.plot([len([l for l in lens if l <= m]) for m in range(max(lens) + 1)])\n",
    "plt.title(\"Number of fully covered examples as a function of max length\")\n",
    "plt.axvline(x=150, color=\"red\")"
   ]
  },
  {
   "cell_type": "markdown",
   "metadata": {},
   "source": [
    "### Prompt [3] Min/Max in Tokens"
   ]
  },
  {
   "cell_type": "code",
   "execution_count": null,
   "metadata": {},
   "outputs": [],
   "source": [
    "# Plot percentiles .25 .5 .75\n"
   ]
  },
  {
   "cell_type": "markdown",
   "metadata": {},
   "source": [
    "### Coverage [1] Prompt Coverage as a function of Tokens Length"
   ]
  },
  {
   "cell_type": "code",
   "execution_count": null,
   "metadata": {},
   "outputs": [],
   "source": [
    "# Plot gaussian bell"
   ]
  },
  {
   "cell_type": "markdown",
   "metadata": {},
   "source": [
    "### Coverage [2] Prompt Coverage as a function of hardcoded context size"
   ]
  },
  {
   "cell_type": "code",
   "execution_count": null,
   "metadata": {},
   "outputs": [],
   "source": [
    "# Plot prompts coverage in relation to tokens count"
   ]
  },
  {
   "cell_type": "markdown",
   "metadata": {},
   "source": [
    "### Word Analysis [1] World Cloud"
   ]
  },
  {
   "cell_type": "code",
   "execution_count": null,
   "metadata": {},
   "outputs": [],
   "source": [
    "# Plot word cloud distribution"
   ]
  }
 ],
 "metadata": {
  "kernelspec": {
   "display_name": "hollms",
   "language": "python",
   "name": "python3"
  },
  "language_info": {
   "codemirror_mode": {
    "name": "ipython",
    "version": 3
   },
   "file_extension": ".py",
   "mimetype": "text/x-python",
   "name": "python",
   "nbconvert_exporter": "python",
   "pygments_lexer": "ipython3",
   "version": "3.10.0"
  },
  "orig_nbformat": 4
 },
 "nbformat": 4,
 "nbformat_minor": 2
}
